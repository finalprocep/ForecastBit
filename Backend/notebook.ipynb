{
 "cells": [
  {
   "cell_type": "code",
   "execution_count": 4,
   "metadata": {},
   "outputs": [
    {
     "name": "stdout",
     "output_type": "stream",
     "text": [
      "WARNING:tensorflow:From d:\\PROJECTS\\Friend\\bitcoint_prediction\\venv\\lib\\site-packages\\keras\\src\\losses.py:2976: The name tf.losses.sparse_softmax_cross_entropy is deprecated. Please use tf.compat.v1.losses.sparse_softmax_cross_entropy instead.\n",
      "\n"
     ]
    }
   ],
   "source": [
    "from datetime import datetime,timedelta\n",
    "import time\n",
    "import pandas as pd\n",
    "import numpy as np\n",
    "import requests\n",
    "import matplotlib.pyplot as plt\n",
    "from sklearn.preprocessing import MinMaxScaler\n",
    "import tensorflow as tf\n",
    "from keras.models import Sequential,load_model\n",
    "from keras.layers import Dense,Dropout,Bidirectional\n",
    "from keras.layers import LSTM\n",
    "from keras import initializers"
   ]
  },
  {
   "cell_type": "code",
   "execution_count": 5,
   "metadata": {},
   "outputs": [],
   "source": [
    "import pickle"
   ]
  },
  {
   "cell_type": "code",
   "execution_count": 6,
   "metadata": {},
   "outputs": [],
   "source": [
    "from sklearn.metrics import mean_absolute_error,mean_squared_error"
   ]
  },
  {
   "cell_type": "code",
   "execution_count": 7,
   "metadata": {},
   "outputs": [],
   "source": [
    "now = datetime.now()\n",
    "now.replace(microsecond=0)\n",
    "\n",
    "# Calculate start and end limits\n",
    "enddate = (now - timedelta(days=2)).replace(microsecond=0)\n",
    "startdate = (now - timedelta(days=18)).replace(microsecond=0)\n",
    "\n",
    "# url & getting api response\n",
    "getter = f\"https://api.twelvedata.com/time_series?apikey=e76157c75c3a42649e168c5c206e88ca&interval=5min&outputsize=5000&order=asc&start_date={startdate}&end_date={enddate}&format=JSON&symbol=BTC/INR&timezone=Asia/Kolkata\"\n",
    "data = requests.get(getter).json()\n",
    "data_final = pd.DataFrame(data['values'])\n",
    "\n",
    "# Data preprocessing\n",
    "scaler = MinMaxScaler(feature_range=(0,1))\n",
    "scaled_data = scaler.fit_transform(data_final['close'].values.reshape(-1,1))\n",
    "timeinterval = 24\n",
    "prediction = 12\n",
    "\n",
    "x_train = []\n",
    "y_train = []\n",
    "\n",
    "for i in range(timeinterval, len(scaled_data)-prediction):\n",
    "    x_train.append(scaled_data[i-timeinterval:i,0])\n",
    "    y_train.append(scaled_data[i+prediction,0])\n",
    "\n",
    "x_train = np.array(x_train)\n",
    "y_train = np.array(y_train)\n",
    "x_train = np.reshape(x_train, (x_train.shape[0], x_train.shape[1], 1))"
   ]
  },
  {
   "cell_type": "code",
   "execution_count": 8,
   "metadata": {},
   "outputs": [
    {
     "name": "stdout",
     "output_type": "stream",
     "text": [
      "WARNING:tensorflow:From d:\\PROJECTS\\Friend\\bitcoint_prediction\\venv\\lib\\site-packages\\keras\\src\\backend.py:873: The name tf.get_default_graph is deprecated. Please use tf.compat.v1.get_default_graph instead.\n",
      "\n",
      "WARNING:tensorflow:From d:\\PROJECTS\\Friend\\bitcoint_prediction\\venv\\lib\\site-packages\\keras\\src\\optimizers\\__init__.py:309: The name tf.train.Optimizer is deprecated. Please use tf.compat.v1.train.Optimizer instead.\n",
      "\n",
      "Epoch 1/10\n",
      "WARNING:tensorflow:From d:\\PROJECTS\\Friend\\bitcoint_prediction\\venv\\lib\\site-packages\\keras\\src\\utils\\tf_utils.py:492: The name tf.ragged.RaggedTensorValue is deprecated. Please use tf.compat.v1.ragged.RaggedTensorValue instead.\n",
      "\n",
      "WARNING:tensorflow:From d:\\PROJECTS\\Friend\\bitcoint_prediction\\venv\\lib\\site-packages\\keras\\src\\engine\\base_layer_utils.py:384: The name tf.executing_eagerly_outside_functions is deprecated. Please use tf.compat.v1.executing_eagerly_outside_functions instead.\n",
      "\n",
      "46/46 [==============================] - 15s 92ms/step - loss: 0.0154 - accuracy: 2.1877e-04 - mean_absolute_error: 0.0888\n",
      "Epoch 2/10\n",
      "46/46 [==============================] - 4s 84ms/step - loss: 0.0055 - accuracy: 4.3754e-04 - mean_absolute_error: 0.0479\n",
      "Epoch 3/10\n",
      "46/46 [==============================] - 4s 86ms/step - loss: 0.0053 - accuracy: 4.3754e-04 - mean_absolute_error: 0.0474\n",
      "Epoch 4/10\n",
      "46/46 [==============================] - 4s 90ms/step - loss: 0.0049 - accuracy: 4.3754e-04 - mean_absolute_error: 0.0457\n",
      "Epoch 5/10\n",
      "46/46 [==============================] - 4s 90ms/step - loss: 0.0048 - accuracy: 4.3754e-04 - mean_absolute_error: 0.0451\n",
      "Epoch 6/10\n",
      "46/46 [==============================] - 4s 86ms/step - loss: 0.0049 - accuracy: 4.3754e-04 - mean_absolute_error: 0.0460\n",
      "Epoch 7/10\n",
      "46/46 [==============================] - 4s 88ms/step - loss: 0.0048 - accuracy: 4.3754e-04 - mean_absolute_error: 0.0456\n",
      "Epoch 8/10\n",
      "46/46 [==============================] - 4s 83ms/step - loss: 0.0046 - accuracy: 4.3754e-04 - mean_absolute_error: 0.0438\n",
      "Epoch 9/10\n",
      "46/46 [==============================] - 4s 82ms/step - loss: 0.0045 - accuracy: 4.3754e-04 - mean_absolute_error: 0.0437\n",
      "Epoch 10/10\n",
      "46/46 [==============================] - 4s 85ms/step - loss: 0.0046 - accuracy: 4.3754e-04 - mean_absolute_error: 0.0454\n"
     ]
    },
    {
     "data": {
      "text/plain": [
       "<keras.src.callbacks.History at 0x1b179fdea10>"
      ]
     },
     "execution_count": 8,
     "metadata": {},
     "output_type": "execute_result"
    }
   ],
   "source": [
    "\n",
    "\n",
    "# Model architecture\n",
    "model = Sequential()\n",
    "model.add(Bidirectional(LSTM(128, return_sequences=True,input_shape=(x_train.shape[1],1), activation='relu')))\n",
    "model.add(Dropout(0.4))\n",
    "model.add(Bidirectional(LSTM(64, return_sequences=True, activation='tanh')))\n",
    "model.add(Dropout(0.3))\n",
    "model.add(Bidirectional(LSTM(64,activation='relu')))\n",
    "model.add(Dropout(0.2))\n",
    "model.add(Dense(1, activation='sigmoid'))\n",
    "model.compile(loss='mean_squared_error', optimizer='adam', metrics=['accuracy','mean_absolute_error'])\n",
    "\n",
    "# Model training\n",
    "model.fit(x_train, y_train, epochs=10, batch_size=100)\n",
    "\n",
    "# Optionally, return a response or do further processing here"
   ]
  },
  {
   "cell_type": "code",
   "execution_count": 9,
   "metadata": {},
   "outputs": [],
   "source": [
    "# Save the model using pi\n",
    "with open('new_model.pkl','wb') as f:\n",
    "  pickle.dump(model,f)"
   ]
  },
  {
   "cell_type": "code",
   "execution_count": null,
   "metadata": {},
   "outputs": [],
   "source": []
  }
 ],
 "metadata": {
  "kernelspec": {
   "display_name": "venv",
   "language": "python",
   "name": "python3"
  },
  "language_info": {
   "codemirror_mode": {
    "name": "ipython",
    "version": 3
   },
   "file_extension": ".py",
   "mimetype": "text/x-python",
   "name": "python",
   "nbconvert_exporter": "python",
   "pygments_lexer": "ipython3",
   "version": "3.10.11"
  }
 },
 "nbformat": 4,
 "nbformat_minor": 2
}
